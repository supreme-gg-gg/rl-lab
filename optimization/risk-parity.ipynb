{
 "cells": [
  {
   "cell_type": "markdown",
   "metadata": {},
   "source": [
    "## Prerequisite: Mean Variance Portfolio\n",
    "\n",
    "Many basic helper functions came from a simplified MVP in `mvp.py`\n",
    "\n",
    "I want to give thanks to [this website](https://gist.github.com/yhilpisch/5bf53944ffd13696fb4102a77602378c) and [this youtube video](https://youtu.be/WRhrd0e4SSc?si=IfbF4KgZFmIG9Rbh).\n",
    "\n",
    "You migth also find this [slide deck][1] useful at some point for more rigour!\n",
    "\n",
    "[1]:https://palomar.home.ece.ust.hk/ELEC5470_lectures/slides_risk_parity_portfolio.pdf"
   ]
  },
  {
   "cell_type": "code",
   "execution_count": null,
   "metadata": {},
   "outputs": [],
   "source": [
    "from scipy.optimize import minimize\n",
    "from mvp import *\n",
    "import pandas as pd\n",
    "import numpy as np\n",
    "import matplotlib.pyplot as plt"
   ]
  },
  {
   "cell_type": "markdown",
   "metadata": {},
   "source": [
    "## Loading data\n",
    "\n",
    "- The data is obtained from `yfinance.download` in `data.ipynb` as a CSV file.\n",
    "- We calculate the return `ret` using $r_t = \\log{r_t} - \\log{r_{t-1}}$\n",
    "- The number of assets is `n`"
   ]
  },
  {
   "cell_type": "code",
   "execution_count": null,
   "metadata": {},
   "outputs": [],
   "source": [
    "data = pd.read_csv(\"universe.csv\", index_col=0, parse_dates=True).dropna()\n",
    "data = data.loc['2022-1-1':] # select all data since 2022 for efficiency\n",
    "\n",
    "rets = np.log(data/data.shift(1)) # we use log return\n",
    "n = len(data.columns)"
   ]
  },
  {
   "cell_type": "markdown",
   "metadata": {},
   "source": [
    "## Equal Weight and Equal Risk Portfolio\n",
    "\n",
    "The goal here is to make the RC (relative contribution) of each stock the same. This is the definition of a risk parity portfolio. We first define a risk function (volatility, std dev, or root of variance) and for N assets:\n",
    "\n",
    "$$\n",
    "\\sigma(w) = \\sqrt{w^T Q w}\n",
    "$$\n",
    "\n",
    "Note that\n",
    "$$\n",
    "MRC_i = \\frac{\\partial \\sigma(w)}{\\partial w_i} = \\frac{(Qw)_i}{\\sqrt{w^TQw}}\n",
    "$$\n",
    "\n",
    "The goal is\n",
    "$$\n",
    "RC_i = \\frac{\\sigma(w)}N \\text{ and } RRC_i = \\frac{1}N\n",
    "$$\n",
    "\n",
    "This is parallel to a equally weighted portfolio where $w_i = 1/N$\n",
    "\n",
    "The following code initializes equal weights and we will later optimize this to create portfolio with equal risk contributions."
   ]
  },
  {
   "cell_type": "code",
   "execution_count": null,
   "metadata": {},
   "outputs": [],
   "source": [
    "w =  np.array(n * [1/n]) # array of n elements, each is 1/n\n",
    "\n",
    "# This is the goal of a equally weighted portfolio\n",
    "plt.pie(w, labels=data.columns, autopct='%1.1f%%')"
   ]
  },
  {
   "cell_type": "code",
   "execution_count": null,
   "metadata": {},
   "outputs": [],
   "source": [
    "cov = rets.cov() * 252\n",
    "vol = portfolio_volatility(w, rets)"
   ]
  },
  {
   "cell_type": "markdown",
   "metadata": {},
   "source": [
    "## Risk Parity Theory\n",
    "\n",
    "We define marginal risk contribution, risk contribution, and relative risk contribution as follows:\n",
    "\n",
    "$$\n",
    "MRC_i = \\frac{\\partial \\sigma(w)}{\\partial w_i} \\\\\n",
    "\n",
    "RC_i = w_i \\frac{\\partial \\sigma(w)}{\\partial w_i} \\\\\n",
    "\n",
    "RRC_i = \\frac{RC_i}{\\sigma(w)} = \\frac{w_i(Qw)_i}{\\sqrt{w^TQw}}\\\\\n",
    "$$\n",
    "\n",
    "Observe that from Euler's theorem\n",
    "\n",
    "$$\n",
    "\\sum^N_{i=1}RC_i = \\sigma(w)\n",
    "$$\n"
   ]
  },
  {
   "cell_type": "markdown",
   "metadata": {},
   "source": [
    "The following script does everything in the same way as above."
   ]
  },
  {
   "cell_type": "code",
   "execution_count": null,
   "metadata": {},
   "outputs": [],
   "source": [
    "def rel_risk_contributions(weights, rets=rets):\n",
    "    vol = portfolio_volatility(weights, rets)\n",
    "    cov = rets.cov()\n",
    "    mrc = np.dot(cov, weights) / vol # marginal volatility or marginal risk contributions\n",
    "    rc = mrc * weights # risk contributinos\n",
    "    rrc = rc / rc.sum() # note rc.sum() = vol(w)\n",
    "    return rrc\n",
    "\n",
    "rrc = rel_risk_contributions(w)\n",
    "plt.pie(rrc, labels=data.columns, autopct='%1.1f%%')\n",
    "plt.title('Relative Risk Contributions of EWP')"
   ]
  },
  {
   "cell_type": "markdown",
   "metadata": {},
   "source": [
    "## Risk Budget Portfolio (RBP)\n",
    "\n",
    "RPP is a special case of RBP where $RC_i = 1/N$, but in general we can allocate portfolio according to predetermiend risk profile weights $b$, with $1^Tb = 1$ and $b \\geq 0$.\n",
    "\n",
    "$$\n",
    "RC_i = b_i \\sigma(w) \\\\\n",
    "RCC_i = b_i\n",
    "$$\n",
    "\n",
    "In the optimize script below just adjust `target` if you want to use RBP."
   ]
  },
  {
   "cell_type": "code",
   "execution_count": null,
   "metadata": {},
   "outputs": [],
   "source": []
  },
  {
   "cell_type": "code",
   "execution_count": null,
   "metadata": {},
   "outputs": [],
   "source": [
    "# mean squared error -- minimise the difference between risk contributions\n",
    "def mse_risk_contributions(weights, target, rets=rets):\n",
    "    rc = rel_risk_contributions(weights, rets)\n",
    "    mse = ((rc - target) ** 2).mean()\n",
    "    return mse * 100\n",
    "\n",
    "bnds = n * [(0, 1),]\n",
    "\n",
    "cons = {'type': 'eq', 'fun': lambda weights: weights.sum() - 1}\n",
    "\n",
    "target = n * [1 / n,]  # risk parity as target\n",
    "\n",
    "target = [0.2, 0.2, 0.2, 0.4]  # risk budget as target\n",
    "\n",
    "opt = minimize(lambda w: mse_risk_contributions(w, target=target),\n",
    "               w, bounds=bnds, constraints=cons)\n",
    "\n",
    "w_ = opt[\"x\"]\n",
    "\n",
    "plt.pie(w_, labels=data.columns, autopct='%1.1f%%')\n",
    "plt.title('Optimal Portfolio Weights')"
   ]
  },
  {
   "cell_type": "code",
   "execution_count": null,
   "metadata": {},
   "outputs": [],
   "source": [
    "rrc = rel_risk_contributions(w_)\n",
    "volatility = portfolio_volatility(w_, rets)\n",
    "print(rrc)\n",
    "print(volatility)"
   ]
  },
  {
   "cell_type": "markdown",
   "metadata": {},
   "source": []
  }
 ],
 "metadata": {
  "kernelspec": {
   "display_name": "quant",
   "language": "python",
   "name": "python3"
  },
  "language_info": {
   "codemirror_mode": {
    "name": "ipython",
    "version": 3
   },
   "file_extension": ".py",
   "mimetype": "text/x-python",
   "name": "python",
   "nbconvert_exporter": "python",
   "pygments_lexer": "ipython3",
   "version": "3.12.2"
  }
 },
 "nbformat": 4,
 "nbformat_minor": 2
}
